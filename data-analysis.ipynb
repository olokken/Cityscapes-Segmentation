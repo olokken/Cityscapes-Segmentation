{
 "cells": [
  {
   "cell_type": "code",
   "execution_count": 2,
   "id": "d8b92e64-7075-4dfe-bb4f-8b0d82ffd8ee",
   "metadata": {},
   "outputs": [],
   "source": [
    "from torchvision.datasets import Cityscapes\n",
    "from collections import namedtuple\n",
    "import numpy as np\n",
    "import matplotlib.pyplot as plt"
   ]
  },
  {
   "cell_type": "code",
   "execution_count": 119,
   "id": "41273a10-04a5-42a2-bf5d-e9340e47108a",
   "metadata": {
    "tags": []
   },
   "outputs": [
    {
     "data": {
      "text/plain": [
       "Dataset Cityscapes\n",
       "    Number of datapoints: 500\n",
       "    Root location: ./data/\n",
       "    Split: val\n",
       "    Mode: gtFine\n",
       "    Type: ['semantic']"
      ]
     },
     "execution_count": 119,
     "metadata": {},
     "output_type": "execute_result"
    }
   ],
   "source": [
    "dataset = Cityscapes(\"./data/\", split=\"val\", mode=\"fine\", target_type=\"semantic\")\n",
    "dataset"
   ]
  },
  {
   "cell_type": "code",
   "execution_count": 120,
   "id": "584c0e23-bac2-4bb5-97b9-7dd6d32b9388",
   "metadata": {
    "tags": []
   },
   "outputs": [
    {
     "data": {
      "text/plain": [
       "PIL.PngImagePlugin.PngImageFile"
      ]
     },
     "execution_count": 120,
     "metadata": {},
     "output_type": "execute_result"
    }
   ],
   "source": [
    "type(dataset[0][1])"
   ]
  },
  {
   "cell_type": "code",
   "execution_count": 121,
   "id": "e660b1d4-2a3a-4eb1-a026-141db35e7cb4",
   "metadata": {
    "tags": []
   },
   "outputs": [],
   "source": [
    "Label = namedtuple( 'Label' , [\n",
    "\n",
    "    'name'        , # The identifier of this label, e.g. 'car', 'person', ... .\n",
    "                    # We use them to uniquely name a class\n",
    "\n",
    "    'id'          , # An integer ID that is associated with this label.\n",
    "                    # The IDs are used to represent the label in ground truth images\n",
    "                    # An ID of -1 means that this label does not have an ID and thus\n",
    "                    # is ignored when creating ground truth images (e.g. license plate).\n",
    "                    # Do not modify these IDs, since exactly these IDs are expected by the\n",
    "                    # evaluation server.\n",
    "\n",
    "    'trainId'     , # Feel free to modify these IDs as suitable for your method. Then create\n",
    "                    # ground truth images with train IDs, using the tools provided in the\n",
    "                    # 'preparation' folder. However, make sure to validate or submit results\n",
    "                    # to our evaluation server using the regular IDs above!\n",
    "                    # For trainIds, multiple labels might have the same ID. Then, these labels\n",
    "                    # are mapped to the same class in the ground truth images. For the inverse\n",
    "                    # mapping, we use the label that is defined first in the list below.\n",
    "                    # For example, mapping all void-type classes to the same ID in training,\n",
    "                    # might make sense for some approaches.\n",
    "                    # Max value is 255!\n",
    "\n",
    "    'category'    , # The name of the category that this label belongs to\n",
    "\n",
    "    'categoryId'  , # The ID of this category. Used to create ground truth images\n",
    "                    # on category level.\n",
    "\n",
    "    'hasInstances', # Whether this label distinguishes between single instances or not\n",
    "\n",
    "    'ignoreInEval', # Whether pixels having this class as ground truth label are ignored\n",
    "                    # during evaluations or not\n",
    "\n",
    "    'color'       , # The color of this label\n",
    "    ] )"
   ]
  },
  {
   "cell_type": "code",
   "execution_count": 122,
   "id": "b967dac5-32e4-4a1f-8ffb-ca170bf4a138",
   "metadata": {
    "tags": []
   },
   "outputs": [],
   "source": [
    "labels = [\n",
    "    #       name                     id    trainId   category            catId     hasInstances   ignoreInEval   color\n",
    "    Label(  'unlabeled'            ,  0 ,      255 , 'void'            , 0       , False        , True         , (  0,  0,  0) ),\n",
    "    Label(  'ego vehicle'          ,  1 ,      255 , 'void'            , 0       , False        , True         , (  0,  0,  0) ),\n",
    "    Label(  'rectification border' ,  2 ,      255 , 'void'            , 0       , False        , True         , (  0,  0,  0) ),\n",
    "    Label(  'out of roi'           ,  3 ,      255 , 'void'            , 0       , False        , True         , (  0,  0,  0) ),\n",
    "    Label(  'static'               ,  4 ,      255 , 'void'            , 0       , False        , True         , (  0,  0,  0) ),\n",
    "    Label(  'dynamic'              ,  5 ,      255 , 'void'            , 0       , False        , True         , (111, 74,  0) ),\n",
    "    Label(  'ground'               ,  6 ,      255 , 'void'            , 0       , False        , True         , ( 81,  0, 81) ),\n",
    "    Label(  'road'                 ,  7 ,        0 , 'flat'            , 1       , False        , False        , (128, 64,128) ),\n",
    "    Label(  'sidewalk'             ,  8 ,        1 , 'flat'            , 1       , False        , False        , (244, 35,232) ),\n",
    "    Label(  'parking'              ,  9 ,      255 , 'flat'            , 1       , False        , True         , (250,170,160) ),\n",
    "    Label(  'rail track'           , 10 ,      255 , 'flat'            , 1       , False        , True         , (230,150,140) ),\n",
    "    Label(  'building'             , 11 ,        2 , 'construction'    , 2       , False        , False        , ( 70, 70, 70) ),\n",
    "    Label(  'wall'                 , 12 ,        3 , 'construction'    , 2       , False        , False        , (102,102,156) ),\n",
    "    Label(  'fence'                , 13 ,        4 , 'construction'    , 2       , False        , False        , (190,153,153) ),\n",
    "    Label(  'guard rail'           , 14 ,      255 , 'construction'    , 2       , False        , True         , (180,165,180) ),\n",
    "    Label(  'bridge'               , 15 ,      255 , 'construction'    , 2       , False        , True         , (150,100,100) ),\n",
    "    Label(  'tunnel'               , 16 ,      255 , 'construction'    , 2       , False        , True         , (150,120, 90) ),\n",
    "    Label(  'pole'                 , 17 ,        5 , 'object'          , 3       , False        , False        , (153,153,153) ),\n",
    "    Label(  'polegroup'            , 18 ,      255 , 'object'          , 3       , False        , True         , (153,153,153) ),\n",
    "    Label(  'traffic light'        , 19 ,        6 , 'object'          , 3       , False        , False        , (250,170, 30) ),\n",
    "    Label(  'traffic sign'         , 20 ,        7 , 'object'          , 3       , False        , False        , (220,220,  0) ),\n",
    "    Label(  'vegetation'           , 21 ,        8 , 'nature'          , 4       , False        , False        , (107,142, 35) ),\n",
    "    Label(  'terrain'              , 22 ,        9 , 'nature'          , 4       , False        , False        , (152,251,152) ),\n",
    "    Label(  'sky'                  , 23 ,       10 , 'sky'             , 5       , False        , False        , ( 70,130,180) ),\n",
    "    Label(  'person'               , 24 ,       11 , 'human'           , 6       , True         , False        , (220, 20, 60) ),\n",
    "    Label(  'rider'                , 25 ,       12 , 'human'           , 6       , True         , False        , (255,  0,  0) ),\n",
    "    Label(  'car'                  , 26 ,       13 , 'vehicle'         , 7       , True         , False        , (  0,  0,142) ),\n",
    "    Label(  'truck'                , 27 ,       14 , 'vehicle'         , 7       , True         , False        , (  0,  0, 70) ),\n",
    "    Label(  'bus'                  , 28 ,       15 , 'vehicle'         , 7       , True         , False        , (  0, 60,100) ),\n",
    "    Label(  'caravan'              , 29 ,      255 , 'vehicle'         , 7       , True         , True         , (  0,  0, 90) ),\n",
    "    Label(  'trailer'              , 30 ,      255 , 'vehicle'         , 7       , True         , True         , (  0,  0,110) ),\n",
    "    Label(  'train'                , 31 ,       16 , 'vehicle'         , 7       , True         , False        , (  0, 80,100) ),\n",
    "    Label(  'motorcycle'           , 32 ,       17 , 'vehicle'         , 7       , True         , False        , (  0,  0,230) ),\n",
    "    Label(  'bicycle'              , 33 ,       18 , 'vehicle'         , 7       , True         , False        , (119, 11, 32) ),\n",
    "    Label(  'license plate'        , -1 ,       -1 , 'vehicle'         , 7       , False        , True         , (  0,  0,142) ),\n",
    "]"
   ]
  },
  {
   "cell_type": "markdown",
   "id": "8738bf52-fa77-488b-a487-578ae468856b",
   "metadata": {},
   "source": [
    "## Find number of pixels for each class"
   ]
  },
  {
   "cell_type": "code",
   "execution_count": 124,
   "id": "5b79124b-8974-413c-ab05-300caa758599",
   "metadata": {
    "tags": []
   },
   "outputs": [
    {
     "data": {
      "text/plain": [
       "array([[3, 3, 3, ..., 3, 3, 3],\n",
       "       [3, 3, 3, ..., 3, 3, 3],\n",
       "       [3, 3, 3, ..., 3, 3, 3],\n",
       "       ...,\n",
       "       [3, 3, 3, ..., 3, 3, 3],\n",
       "       [3, 3, 3, ..., 3, 3, 3],\n",
       "       [3, 3, 3, ..., 3, 3, 3]], dtype=uint8)"
      ]
     },
     "execution_count": 124,
     "metadata": {},
     "output_type": "execute_result"
    }
   ],
   "source": [
    "np.array(dataset[0][1])"
   ]
  },
  {
   "cell_type": "code",
   "execution_count": 135,
   "id": "22d23537-4fbb-465a-baf2-7c1d1889e582",
   "metadata": {
    "tags": []
   },
   "outputs": [],
   "source": [
    "arrays = []\n",
    "\n",
    "for i in range(len(dataset)):\n",
    "    annotation = dataset[i][1]\n",
    "    arrays.append(np.array(annotation))"
   ]
  },
  {
   "cell_type": "code",
   "execution_count": 152,
   "id": "e89f5e8b-d190-4b9d-a77e-1a90a8289d3c",
   "metadata": {
    "tags": []
   },
   "outputs": [],
   "source": [
    "def check_unique(arrays):\n",
    "    combined_array = np.concatenate(arrays)\n",
    "\n",
    "    # Counting the occurrences of each unique value\n",
    "    unique, counts = np.unique(combined_array, return_counts=True)\n",
    "\n",
    "    # Creating a dictionary from the unique values and their counts\n",
    "    occurrences = dict(zip(unique, counts))\n",
    "\n",
    "    # Printing the occurrences\n",
    "    return occurrences"
   ]
  },
  {
   "cell_type": "code",
   "execution_count": 153,
   "id": "13b81e16-487a-4909-b221-393abea44ac2",
   "metadata": {
    "tags": []
   },
   "outputs": [
    {
     "data": {
      "text/plain": [
       "{0: 375854,\n",
       " 1: 51330054,\n",
       " 2: 19784166,\n",
       " 3: 15817000,\n",
       " 4: 15650152,\n",
       " 5: 4449872,\n",
       " 6: 18676902,\n",
       " 7: 345264442,\n",
       " 8: 49568652,\n",
       " 9: 4151398,\n",
       " 10: 638410,\n",
       " 11: 201005428,\n",
       " 12: 6718315,\n",
       " 13: 7521741,\n",
       " 14: 38838,\n",
       " 15: 312193,\n",
       " 17: 13565658,\n",
       " 18: 78175,\n",
       " 19: 1808393,\n",
       " 20: 6098373,\n",
       " 21: 158868008,\n",
       " 22: 7625026,\n",
       " 23: 30765347,\n",
       " 24: 11913424,\n",
       " 25: 1975596,\n",
       " 26: 59731217,\n",
       " 27: 2760211,\n",
       " 28: 3563120,\n",
       " 29: 53411,\n",
       " 30: 201086,\n",
       " 31: 1031648,\n",
       " 32: 729415,\n",
       " 33: 6504475}"
      ]
     },
     "execution_count": 153,
     "metadata": {},
     "output_type": "execute_result"
    }
   ],
   "source": [
    "occurrences = check_unique(arrays)\n",
    "occurrences"
   ]
  },
  {
   "cell_type": "code",
   "execution_count": 10,
   "id": "3d10558b-11ec-43f0-af21-9d2960fa41c7",
   "metadata": {
    "tags": []
   },
   "outputs": [],
   "source": [
    "import matplotlib.pyplot as plt\n",
    "\n",
    "# Provided label data\n",
    "def plot_occurrences(counts):\n",
    "    labels = [\n",
    "        'unlabeled', 'ego vehicle', 'rectification border', 'out of roi', 'static', \n",
    "        'dynamic', 'ground', 'road', 'sidewalk', 'parking', 'rail track', \n",
    "        'building', 'wall', 'fence', 'guard rail', 'bridge', 'tunnel', 'pole', \n",
    "        'polegroup', 'traffic light', 'traffic sign', 'vegetation', 'terrain', \n",
    "        'sky', 'person', 'rider', 'car', 'truck', 'bus', 'caravan', 'trailer', \n",
    "        'train', 'motorcycle', 'bicycle', 'license plate'\n",
    "    ]\n",
    "\n",
    "    # Filter labels and counts to include only those present in the counts dictionary\n",
    "    filtered_labels = [label for i, label in enumerate(labels) if i in counts]\n",
    "    filtered_counts = [counts[i] for i in range(len(labels)) if i in counts]\n",
    "\n",
    "    # Create the matplotlib bar chart\n",
    "    plt.figure(figsize=(15, 8))\n",
    "    plt.bar(filtered_labels, filtered_counts)\n",
    "    plt.xlabel('Labels')\n",
    "    plt.ylabel('Occurrences')\n",
    "    plt.xticks(rotation=90)  # Rotate labels for better readability\n",
    "    plt.tight_layout()  # Adjust layout to fit all labels\n",
    "    plt.show()"
   ]
  },
  {
   "cell_type": "code",
   "execution_count": null,
   "id": "b2f8d395-f29e-4fef-bf62-9c592cae22f3",
   "metadata": {},
   "outputs": [],
   "source": [
    "plot_occurrences(occurrences)"
   ]
  },
  {
   "cell_type": "markdown",
   "id": "c574f680-b2ef-404b-b6e5-35e326f160ca",
   "metadata": {},
   "source": [
    "## Find how many instances of each class in the instance dataset"
   ]
  },
  {
   "cell_type": "code",
   "execution_count": 3,
   "id": "4ec3632b-7ecf-4112-84f7-56fd38490a00",
   "metadata": {},
   "outputs": [
    {
     "data": {
      "text/plain": [
       "Dataset Cityscapes\n",
       "    Number of datapoints: 2975\n",
       "    Root location: ./data/\n",
       "    Split: train\n",
       "    Mode: gtFine\n",
       "    Type: ['instance']"
      ]
     },
     "execution_count": 3,
     "metadata": {},
     "output_type": "execute_result"
    }
   ],
   "source": [
    "dataset_instance = Cityscapes(\"./data/\", split=\"train\", mode=\"fine\", target_type=\"instance\")\n",
    "dataset_instance "
   ]
  },
  {
   "cell_type": "code",
   "execution_count": 4,
   "id": "d0deb7b5-5566-4929-87f2-1b6fb86f1e90",
   "metadata": {
    "tags": []
   },
   "outputs": [],
   "source": [
    "arrays_instance = []\n",
    "\n",
    "for i in range(len(dataset_instance)):\n",
    "    annotation = dataset_instance[i][1]\n",
    "    arrays_instance.append(np.array(annotation))"
   ]
  },
  {
   "cell_type": "code",
   "execution_count": 5,
   "id": "22d63ae5-99cc-4cc5-8e6e-7da12540de52",
   "metadata": {
    "tags": []
   },
   "outputs": [],
   "source": [
    "def count_unique_objects_in_unique_array(array):\n",
    "    for num in array: \n",
    "        if num < 50:\n",
    "            continue; \n",
    "        class_id = str(num)[:2]\n",
    "        class_id = int(class_id)\n",
    "        value = counter_dict.get(class_id)\n",
    "        if value is None:\n",
    "            counter_dict[class_id] = 0\n",
    "        counter_dict[class_id] = counter_dict.get(class_id) + 1"
   ]
  },
  {
   "cell_type": "code",
   "execution_count": 6,
   "id": "c4c792f1-43e1-45f3-b0e3-76611f3acdb7",
   "metadata": {
    "tags": []
   },
   "outputs": [
    {
     "data": {
      "text/plain": [
       "2975"
      ]
     },
     "execution_count": 6,
     "metadata": {},
     "output_type": "execute_result"
    }
   ],
   "source": [
    "len(arrays_instance)"
   ]
  },
  {
   "cell_type": "code",
   "execution_count": 7,
   "id": "b41d029b-7b8d-4b66-b7e2-44c97dadf77f",
   "metadata": {
    "tags": []
   },
   "outputs": [
    {
     "data": {
      "text/plain": [
       "{24: 17900,\n",
       " 26: 26929,\n",
       " 32: 735,\n",
       " 33: 3655,\n",
       " 25: 1754,\n",
       " 28: 379,\n",
       " 30: 76,\n",
       " 27: 482,\n",
       " 31: 168,\n",
       " 29: 61}"
      ]
     },
     "execution_count": 7,
     "metadata": {},
     "output_type": "execute_result"
    }
   ],
   "source": [
    "counter_dict = {}\n",
    "for array in arrays_instance:\n",
    "    unique_arr = np.unique(array)\n",
    "    count_unique_objects_in_unique_array(unique_arr)\n",
    "counter_dict"
   ]
  },
  {
   "cell_type": "code",
   "execution_count": 11,
   "id": "d40d0988-b9e1-4d43-b81a-4cb53d5a9e46",
   "metadata": {
    "tags": []
   },
   "outputs": [
    {
     "data": {
      "image/png": "[encoded data removed]",
      "text/plain": [
       "<Figure size 1500x800 with 1 Axes>"
      ]
     },
     "metadata": {},
     "output_type": "display_data"
    }
   ],
   "source": [
    "plot_occurrences(counter_dict)"
   ]
  },
  {
   "cell_type": "code",
   "execution_count": null,
   "id": "9901b4a0-761d-40d1-bdef-1007a689fafc",
   "metadata": {},
   "outputs": [],
   "source": []
  }
 ],
 "metadata": {
  "kernelspec": {
   "display_name": "Python 3 (ipykernel)",
   "language": "python",
   "name": "python3"
  },
  "language_info": {
   "codemirror_mode": {
    "name": "ipython",
    "version": 3
   },
   "file_extension": ".py",
   "mimetype": "text/x-python",
   "name": "python",
   "nbconvert_exporter": "python",
   "pygments_lexer": "ipython3",
   "version": "3.11.5"
  }
 },
 "nbformat": 4,
 "nbformat_minor": 5
}
